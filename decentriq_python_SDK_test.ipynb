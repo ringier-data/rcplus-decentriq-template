{
 "cells": [
  {
   "cell_type": "code",
   "execution_count": 2,
   "metadata": {},
   "outputs": [],
   "source": [
    "import sys\n",
    "!{sys.executable} -m pip install decentriq-platform==0.9.0rc1"
   ]
  },
  {
   "cell_type": "markdown",
   "metadata": {},
   "source": [
    "## Initialize session"
   ]
  },
  {
   "cell_type": "code",
   "execution_count": 1,
   "metadata": {},
   "outputs": [],
   "source": [
    "#import uuid\n",
    "#import os\n",
    "import sys\n",
    "import decentriq_platform as dq\n",
    "import decentriq_platform.container as dqc\n",
    "\n",
    "# Get credentials from file\n",
    "with open(\"credentials\", \"r\") as file:\n",
    "    lines = file.readlines()\n",
    "    lines = [line.rstrip() for line in lines]\n",
    "user_email = lines[0]\n",
    "api_token = lines[1]\n",
    "\n",
    "client = dq.create_client(user_email, api_token, integrate_with_platform=True)\n",
    "specs = dq.enclave_specifications.versions([\n",
    "    \"decentriq.driver:v2\",\n",
    "    \"decentriq.sql-worker:v2\",\n",
    "    \"decentriq.python-ml-worker:v1\"\n",
    "])\n",
    "auth = client.platform.create_auth_using_decentriq_pki()\n",
    "session = client.create_session(auth, specs)"
   ]
  },
  {
   "cell_type": "markdown",
   "metadata": {},
   "source": [
    "# Python DCR\n",
    "## DCR definition and publishing"
   ]
  },
  {
   "cell_type": "code",
   "execution_count": 20,
   "metadata": {},
   "outputs": [],
   "source": [
    "import decentriq_platform as dq\n",
    "import decentriq_platform.sql as dqsql\n",
    "import decentriq_platform.container as dqc\n",
    "from decentriq_platform.container.proto import MountPoint\n",
    "\n",
    "python_builder = dq.DataRoomBuilder(\n",
    "    \"pythonDCR_03-05-2022\",\n",
    "    enclave_specs=specs\n",
    ")\n",
    "\n",
    "# Create one data node for each party.\n",
    "data_node_builder1 = dqsql.TabularDataNodeBuilder(\n",
    "    \"party_a\",\n",
    "    schema=[\n",
    "        (\"id\", dqsql.PrimitiveType.INT64, False),\n",
    "        (\"mean radius\", dqsql.PrimitiveType.FLOAT64, False),\n",
    "        (\"mean texture\", dqsql.PrimitiveType.FLOAT64, False),\n",
    "        (\"mean perimeter\", dqsql.PrimitiveType.FLOAT64, False)\n",
    "    ]\n",
    ")\n",
    "data_node_builder1.add_to_builder(\n",
    "    python_builder,\n",
    "    authentication=client.platform.decentriq_pki_authentication,\n",
    "    users=[user_email]\n",
    ")\n",
    "data_node_builder2 = dqsql.TabularDataNodeBuilder(\n",
    "    \"party_b\",\n",
    "    schema=[\n",
    "        (\"id\", dqsql.PrimitiveType.INT64, False),\n",
    "        (\"y\", dqsql.PrimitiveType.FLOAT64, False)\n",
    "    ]\n",
    ")\n",
    "data_node_builder2.add_to_builder(\n",
    "    python_builder,\n",
    "    authentication=client.platform.decentriq_pki_authentication,\n",
    "    users=[user_email]\n",
    ")\n",
    "\n",
    "# Create the python computation node.\n",
    "python_script_filename = \"train_script_decentriq.py\"\n",
    "with open(python_script_filename,\"rb\") as input_script:\n",
    "    my_script_content_from_file = input_script.read()\n",
    "script_node1 = dq.StaticContent(\"python_script\", my_script_content_from_file)\n",
    "python_builder.add_compute_node(script_node1)\n",
    "\n",
    "training_node = dqc.StaticContainerCompute(\n",
    "    name=\"training_node\",\n",
    "    command=[\"python\", \"/input/train_script_decentriq.py\"],\n",
    "    mount_points=[\n",
    "        MountPoint(path=\"/input/train_script_decentriq.py\", dependency=\"python_script\"),\n",
    "        MountPoint(path=\"/input/party_a\", dependency=\"party_a\"),\n",
    "        MountPoint(path=\"/input/party_b\", dependency=\"party_b\")\n",
    "    ],\n",
    "    output_path=\"/output\",\n",
    "    enclave_type=\"decentriq.python-ml-worker\",\n",
    "    include_container_logs_on_error=True\n",
    ")\n",
    "python_builder.add_compute_node(training_node)\n",
    "\n",
    "python_builder.add_user_permission(\n",
    "    email=\"alexandros.metsai@ringier.ch\",\n",
    "    authentication_method=client.platform.decentriq_pki_authentication,\n",
    "    permissions=[\n",
    "        #dq.Permissions.leaf_crud(\"party_a\"),\n",
    "        #dq.Permissions.leaf_crud(\"party_b\"),  # no permissions for tabular datasets?\n",
    "        dq.Permissions.execute_compute(\"training_node\"),\n",
    "        dq.Permissions.retrieve_published_datasets(),\n",
    "        dq.Permissions.update_data_room_status(),\n",
    "        dq.Permissions.retrieve_data_room_status(),\n",
    "        dq.Permissions.retrieve_data_room(),\n",
    "        dq.Permissions.retrieve_audit_log()\n",
    "    ]\n",
    ")"
   ]
  },
  {
   "cell_type": "code",
   "execution_count": 21,
   "metadata": {},
   "outputs": [
    {
     "name": "stdout",
     "output_type": "stream",
     "text": [
      "DCR is successfully published. DCR ID: 53ba084d5a2e286ef303f2ecfe0619815d317a18fe7c759c6cb411e6d970a523\n"
     ]
    }
   ],
   "source": [
    "# Publish Data Clean Room.\n",
    "data_room = python_builder.build()\n",
    "python_dcr_id = session.publish_data_room(data_room)\n",
    "print(\"DCR is successfully published. DCR ID:\", python_dcr_id)"
   ]
  },
  {
   "cell_type": "markdown",
   "metadata": {},
   "source": [
    "### Upload data and store results"
   ]
  },
  {
   "cell_type": "code",
   "execution_count": 22,
   "metadata": {},
   "outputs": [
    {
     "data": {
      "text/plain": [
       "{'datasetId': 'ebe4df66680831c84bc2b918339a9afb13e450a1bef0470a9ed445aeb0645c91',\n",
       " 'name': 'party_a',\n",
       " 'creationDate': '2022-05-03T15:00:18.831Z'}"
      ]
     },
     "execution_count": 22,
     "metadata": {},
     "output_type": "execute_result"
    }
   ],
   "source": [
    "# Party A\n",
    "key = dq.Key()\n",
    "\n",
    "input_data = dqsql.read_input_csv_file(\"data/data_party_a.csv\", has_header=True, delimiter=\",\")\n",
    "\n",
    "dataset_id_1 = dqsql.upload_and_publish_tabular_dataset(\n",
    "    input_data, \n",
    "    key,\n",
    "    python_dcr_id,\n",
    "    table = \"party_a\",\n",
    "    session = session,\n",
    "    description = \"These are the data of party A\",\n",
    "    validate = True\n",
    ")\n",
    "\n",
    "# Get dataset from postgres\n",
    "client.get_dataset(dataset_id_1)"
   ]
  },
  {
   "cell_type": "code",
   "execution_count": 23,
   "metadata": {},
   "outputs": [
    {
     "data": {
      "text/plain": [
       "{'datasetId': '7bbf99dfc207aa603d2e0b2293f3dfcc207b827c676b0e176c361487e2d1e479',\n",
       " 'name': 'party_b',\n",
       " 'creationDate': '2022-05-03T15:00:27.421Z'}"
      ]
     },
     "execution_count": 23,
     "metadata": {},
     "output_type": "execute_result"
    }
   ],
   "source": [
    "# Party B\n",
    "key = dq.Key()\n",
    "\n",
    "input_data = dqsql.read_input_csv_file(\"data/data_party_b.csv\", has_header=True, delimiter=\",\")\n",
    "\n",
    "dataset_id_2 = dqsql.upload_and_publish_tabular_dataset(\n",
    "    input_data, \n",
    "    key,\n",
    "    python_dcr_id,\n",
    "    table = \"party_b\",\n",
    "    session = session,\n",
    "    description = \"These are the data of party B\",\n",
    "    validate = True\n",
    ")\n",
    "\n",
    "# Get dataset from postgres\n",
    "client.get_dataset(dataset_id_2)"
   ]
  },
  {
   "cell_type": "code",
   "execution_count": 24,
   "metadata": {},
   "outputs": [],
   "source": [
    "key = dq.Key()\n",
    "\n",
    "# Run computation and get results.\n",
    "raw_result = session.run_computation_and_get_results(python_dcr_id, \"training_node\")\n",
    "zip_result = dqc.read_result_as_zipfile(raw_result)\n"
   ]
  },
  {
   "cell_type": "code",
   "execution_count": 52,
   "metadata": {},
   "outputs": [],
   "source": [
    "zip_result.extractall(\".\")"
   ]
  }
 ],
 "metadata": {
  "interpreter": {
   "hash": "9f4e4b46270f4b21532c6538b87a58052cb4de37a88d7c39cb2bf78f29c89fb5"
  },
  "kernelspec": {
   "display_name": "Python 3.8.13 ('dec')",
   "language": "python",
   "name": "python3"
  },
  "language_info": {
   "codemirror_mode": {
    "name": "ipython",
    "version": 3
   },
   "file_extension": ".py",
   "mimetype": "text/x-python",
   "name": "python",
   "nbconvert_exporter": "python",
   "pygments_lexer": "ipython3",
   "version": "3.8.13"
  },
  "orig_nbformat": 4
 },
 "nbformat": 4,
 "nbformat_minor": 2
}
